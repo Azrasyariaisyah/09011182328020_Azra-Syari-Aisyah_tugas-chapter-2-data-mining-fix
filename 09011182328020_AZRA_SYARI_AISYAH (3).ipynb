{
  "nbformat": 4,
  "nbformat_minor": 0,
  "metadata": {
    "colab": {
      "provenance": []
    },
    "kernelspec": {
      "name": "python3",
      "display_name": "Python 3"
    },
    "language_info": {
      "name": "python"
    }
  },
  "cells": [
    {
      "cell_type": "code",
      "execution_count": null,
      "metadata": {
        "colab": {
          "base_uri": "https://localhost:8080/",
          "height": 73
        },
        "id": "itI3on6JQzQI",
        "outputId": "9c3a190e-d59d-4128-fe61-47ffbec7e5d5"
      },
      "outputs": [
        {
          "output_type": "display_data",
          "data": {
            "text/plain": [
              "<IPython.core.display.HTML object>"
            ],
            "text/html": [
              "\n",
              "     <input type=\"file\" id=\"files-f0a10a0d-38a5-42a3-8114-79ee9f82edc7\" name=\"files[]\" multiple disabled\n",
              "        style=\"border:none\" />\n",
              "     <output id=\"result-f0a10a0d-38a5-42a3-8114-79ee9f82edc7\">\n",
              "      Upload widget is only available when the cell has been executed in the\n",
              "      current browser session. Please rerun this cell to enable.\n",
              "      </output>\n",
              "      <script>// Copyright 2017 Google LLC\n",
              "//\n",
              "// Licensed under the Apache License, Version 2.0 (the \"License\");\n",
              "// you may not use this file except in compliance with the License.\n",
              "// You may obtain a copy of the License at\n",
              "//\n",
              "//      http://www.apache.org/licenses/LICENSE-2.0\n",
              "//\n",
              "// Unless required by applicable law or agreed to in writing, software\n",
              "// distributed under the License is distributed on an \"AS IS\" BASIS,\n",
              "// WITHOUT WARRANTIES OR CONDITIONS OF ANY KIND, either express or implied.\n",
              "// See the License for the specific language governing permissions and\n",
              "// limitations under the License.\n",
              "\n",
              "/**\n",
              " * @fileoverview Helpers for google.colab Python module.\n",
              " */\n",
              "(function(scope) {\n",
              "function span(text, styleAttributes = {}) {\n",
              "  const element = document.createElement('span');\n",
              "  element.textContent = text;\n",
              "  for (const key of Object.keys(styleAttributes)) {\n",
              "    element.style[key] = styleAttributes[key];\n",
              "  }\n",
              "  return element;\n",
              "}\n",
              "\n",
              "// Max number of bytes which will be uploaded at a time.\n",
              "const MAX_PAYLOAD_SIZE = 100 * 1024;\n",
              "\n",
              "function _uploadFiles(inputId, outputId) {\n",
              "  const steps = uploadFilesStep(inputId, outputId);\n",
              "  const outputElement = document.getElementById(outputId);\n",
              "  // Cache steps on the outputElement to make it available for the next call\n",
              "  // to uploadFilesContinue from Python.\n",
              "  outputElement.steps = steps;\n",
              "\n",
              "  return _uploadFilesContinue(outputId);\n",
              "}\n",
              "\n",
              "// This is roughly an async generator (not supported in the browser yet),\n",
              "// where there are multiple asynchronous steps and the Python side is going\n",
              "// to poll for completion of each step.\n",
              "// This uses a Promise to block the python side on completion of each step,\n",
              "// then passes the result of the previous step as the input to the next step.\n",
              "function _uploadFilesContinue(outputId) {\n",
              "  const outputElement = document.getElementById(outputId);\n",
              "  const steps = outputElement.steps;\n",
              "\n",
              "  const next = steps.next(outputElement.lastPromiseValue);\n",
              "  return Promise.resolve(next.value.promise).then((value) => {\n",
              "    // Cache the last promise value to make it available to the next\n",
              "    // step of the generator.\n",
              "    outputElement.lastPromiseValue = value;\n",
              "    return next.value.response;\n",
              "  });\n",
              "}\n",
              "\n",
              "/**\n",
              " * Generator function which is called between each async step of the upload\n",
              " * process.\n",
              " * @param {string} inputId Element ID of the input file picker element.\n",
              " * @param {string} outputId Element ID of the output display.\n",
              " * @return {!Iterable<!Object>} Iterable of next steps.\n",
              " */\n",
              "function* uploadFilesStep(inputId, outputId) {\n",
              "  const inputElement = document.getElementById(inputId);\n",
              "  inputElement.disabled = false;\n",
              "\n",
              "  const outputElement = document.getElementById(outputId);\n",
              "  outputElement.innerHTML = '';\n",
              "\n",
              "  const pickedPromise = new Promise((resolve) => {\n",
              "    inputElement.addEventListener('change', (e) => {\n",
              "      resolve(e.target.files);\n",
              "    });\n",
              "  });\n",
              "\n",
              "  const cancel = document.createElement('button');\n",
              "  inputElement.parentElement.appendChild(cancel);\n",
              "  cancel.textContent = 'Cancel upload';\n",
              "  const cancelPromise = new Promise((resolve) => {\n",
              "    cancel.onclick = () => {\n",
              "      resolve(null);\n",
              "    };\n",
              "  });\n",
              "\n",
              "  // Wait for the user to pick the files.\n",
              "  const files = yield {\n",
              "    promise: Promise.race([pickedPromise, cancelPromise]),\n",
              "    response: {\n",
              "      action: 'starting',\n",
              "    }\n",
              "  };\n",
              "\n",
              "  cancel.remove();\n",
              "\n",
              "  // Disable the input element since further picks are not allowed.\n",
              "  inputElement.disabled = true;\n",
              "\n",
              "  if (!files) {\n",
              "    return {\n",
              "      response: {\n",
              "        action: 'complete',\n",
              "      }\n",
              "    };\n",
              "  }\n",
              "\n",
              "  for (const file of files) {\n",
              "    const li = document.createElement('li');\n",
              "    li.append(span(file.name, {fontWeight: 'bold'}));\n",
              "    li.append(span(\n",
              "        `(${file.type || 'n/a'}) - ${file.size} bytes, ` +\n",
              "        `last modified: ${\n",
              "            file.lastModifiedDate ? file.lastModifiedDate.toLocaleDateString() :\n",
              "                                    'n/a'} - `));\n",
              "    const percent = span('0% done');\n",
              "    li.appendChild(percent);\n",
              "\n",
              "    outputElement.appendChild(li);\n",
              "\n",
              "    const fileDataPromise = new Promise((resolve) => {\n",
              "      const reader = new FileReader();\n",
              "      reader.onload = (e) => {\n",
              "        resolve(e.target.result);\n",
              "      };\n",
              "      reader.readAsArrayBuffer(file);\n",
              "    });\n",
              "    // Wait for the data to be ready.\n",
              "    let fileData = yield {\n",
              "      promise: fileDataPromise,\n",
              "      response: {\n",
              "        action: 'continue',\n",
              "      }\n",
              "    };\n",
              "\n",
              "    // Use a chunked sending to avoid message size limits. See b/62115660.\n",
              "    let position = 0;\n",
              "    do {\n",
              "      const length = Math.min(fileData.byteLength - position, MAX_PAYLOAD_SIZE);\n",
              "      const chunk = new Uint8Array(fileData, position, length);\n",
              "      position += length;\n",
              "\n",
              "      const base64 = btoa(String.fromCharCode.apply(null, chunk));\n",
              "      yield {\n",
              "        response: {\n",
              "          action: 'append',\n",
              "          file: file.name,\n",
              "          data: base64,\n",
              "        },\n",
              "      };\n",
              "\n",
              "      let percentDone = fileData.byteLength === 0 ?\n",
              "          100 :\n",
              "          Math.round((position / fileData.byteLength) * 100);\n",
              "      percent.textContent = `${percentDone}% done`;\n",
              "\n",
              "    } while (position < fileData.byteLength);\n",
              "  }\n",
              "\n",
              "  // All done.\n",
              "  yield {\n",
              "    response: {\n",
              "      action: 'complete',\n",
              "    }\n",
              "  };\n",
              "}\n",
              "\n",
              "scope.google = scope.google || {};\n",
              "scope.google.colab = scope.google.colab || {};\n",
              "scope.google.colab._files = {\n",
              "  _uploadFiles,\n",
              "  _uploadFilesContinue,\n",
              "};\n",
              "})(self);\n",
              "</script> "
            ]
          },
          "metadata": {}
        },
        {
          "output_type": "stream",
          "name": "stdout",
          "text": [
            "Saving HeartDiseaseTrain-Test.csv to HeartDiseaseTrain-Test.csv\n"
          ]
        }
      ],
      "source": [
        "from google.colab import files\n",
        "uploaded =files.upload()\n"
      ]
    },
    {
      "cell_type": "code",
      "source": [],
      "metadata": {
        "id": "gdkkXRGIZ7hx"
      },
      "execution_count": null,
      "outputs": []
    },
    {
      "cell_type": "code",
      "source": [
        "from google.colab import files\n",
        "import pandas as pd\n",
        "import io\n",
        "\n",
        "data = pd.read_csv(io.BytesIO(uploaded['HeartDiseaseTrain-Test.csv']))"
      ],
      "metadata": {
        "id": "GViCeLnjZ7m5"
      },
      "execution_count": null,
      "outputs": []
    },
    {
      "cell_type": "code",
      "source": [
        "# Menampilkan 5 baris pertama\n",
        "print(\"5 baris pertama:\")\n",
        "print(data.head())\n"
      ],
      "metadata": {
        "colab": {
          "base_uri": "https://localhost:8080/"
        },
        "id": "D1mOs4xQbuOn",
        "outputId": "dbfb0d9a-8787-4606-fcd1-c4c0f37c4b02"
      },
      "execution_count": null,
      "outputs": [
        {
          "output_type": "stream",
          "name": "stdout",
          "text": [
            "5 baris pertama:\n",
            "   age     sex chest_pain_type  resting_blood_pressure  cholestoral  \\\n",
            "0   52    Male  Typical angina                     125          212   \n",
            "1   53    Male  Typical angina                     140          203   \n",
            "2   70    Male  Typical angina                     145          174   \n",
            "3   61    Male  Typical angina                     148          203   \n",
            "4   62  Female  Typical angina                     138          294   \n",
            "\n",
            "      fasting_blood_sugar               rest_ecg  Max_heart_rate  \\\n",
            "0    Lower than 120 mg/ml  ST-T wave abnormality             168   \n",
            "1  Greater than 120 mg/ml                 Normal             155   \n",
            "2    Lower than 120 mg/ml  ST-T wave abnormality             125   \n",
            "3    Lower than 120 mg/ml  ST-T wave abnormality             161   \n",
            "4  Greater than 120 mg/ml  ST-T wave abnormality             106   \n",
            "\n",
            "  exercise_induced_angina  oldpeak        slope vessels_colored_by_flourosopy  \\\n",
            "0                      No      1.0  Downsloping                           Two   \n",
            "1                     Yes      3.1    Upsloping                          Zero   \n",
            "2                     Yes      2.6    Upsloping                          Zero   \n",
            "3                      No      0.0  Downsloping                           One   \n",
            "4                      No      1.9         Flat                         Three   \n",
            "\n",
            "         thalassemia  target  \n",
            "0  Reversable Defect       0  \n",
            "1  Reversable Defect       0  \n",
            "2  Reversable Defect       0  \n",
            "3  Reversable Defect       0  \n",
            "4       Fixed Defect       0  \n"
          ]
        }
      ]
    },
    {
      "cell_type": "code",
      "source": [
        "# Menampilkan 5 baris terakhir\n",
        "print(\"\\n5 baris terakhir:\")\n",
        "print(data.tail())"
      ],
      "metadata": {
        "colab": {
          "base_uri": "https://localhost:8080/"
        },
        "id": "Tm77kzsjdnxQ",
        "outputId": "3a6394d4-4391-4631-ec20-b591d043aaf5"
      },
      "execution_count": null,
      "outputs": [
        {
          "output_type": "stream",
          "name": "stdout",
          "text": [
            "\n",
            "5 baris terakhir:\n",
            "      age     sex  chest_pain_type  resting_blood_pressure  cholestoral  \\\n",
            "1020   59    Male  Atypical angina                     140          221   \n",
            "1021   60    Male   Typical angina                     125          258   \n",
            "1022   47    Male   Typical angina                     110          275   \n",
            "1023   50  Female   Typical angina                     110          254   \n",
            "1024   54    Male   Typical angina                     120          188   \n",
            "\n",
            "       fasting_blood_sugar               rest_ecg  Max_heart_rate  \\\n",
            "1020  Lower than 120 mg/ml  ST-T wave abnormality             164   \n",
            "1021  Lower than 120 mg/ml                 Normal             141   \n",
            "1022  Lower than 120 mg/ml                 Normal             118   \n",
            "1023  Lower than 120 mg/ml                 Normal             159   \n",
            "1024  Lower than 120 mg/ml  ST-T wave abnormality             113   \n",
            "\n",
            "     exercise_induced_angina  oldpeak        slope  \\\n",
            "1020                     Yes      0.0  Downsloping   \n",
            "1021                     Yes      2.8         Flat   \n",
            "1022                     Yes      1.0         Flat   \n",
            "1023                      No      0.0  Downsloping   \n",
            "1024                      No      1.4         Flat   \n",
            "\n",
            "     vessels_colored_by_flourosopy        thalassemia  target  \n",
            "1020                          Zero       Fixed Defect       1  \n",
            "1021                           One  Reversable Defect       0  \n",
            "1022                           One       Fixed Defect       0  \n",
            "1023                          Zero       Fixed Defect       1  \n",
            "1024                           One  Reversable Defect       0  \n"
          ]
        }
      ]
    },
    {
      "cell_type": "code",
      "source": [
        "#\tLihat informasi tentang dataset (tipe data, jumlah entri, jumlah kolom).\n",
        "#Menampilkan statistik deskriptif\n",
        "print(data.info())"
      ],
      "metadata": {
        "colab": {
          "base_uri": "https://localhost:8080/"
        },
        "id": "-kdhEqLqdyF3",
        "outputId": "0d1e7729-09d6-4ee6-d152-201edcc0980a"
      },
      "execution_count": null,
      "outputs": [
        {
          "output_type": "stream",
          "name": "stdout",
          "text": [
            "<class 'pandas.core.frame.DataFrame'>\n",
            "RangeIndex: 1025 entries, 0 to 1024\n",
            "Data columns (total 14 columns):\n",
            " #   Column                         Non-Null Count  Dtype  \n",
            "---  ------                         --------------  -----  \n",
            " 0   age                            1025 non-null   int64  \n",
            " 1   sex                            1025 non-null   object \n",
            " 2   chest_pain_type                1025 non-null   object \n",
            " 3   resting_blood_pressure         1025 non-null   int64  \n",
            " 4   cholestoral                    1025 non-null   int64  \n",
            " 5   fasting_blood_sugar            1025 non-null   object \n",
            " 6   rest_ecg                       1025 non-null   object \n",
            " 7   Max_heart_rate                 1025 non-null   int64  \n",
            " 8   exercise_induced_angina        1025 non-null   object \n",
            " 9   oldpeak                        1025 non-null   float64\n",
            " 10  slope                          1025 non-null   object \n",
            " 11  vessels_colored_by_flourosopy  1025 non-null   object \n",
            " 12  thalassemia                    1025 non-null   object \n",
            " 13  target                         1025 non-null   int64  \n",
            "dtypes: float64(1), int64(5), object(8)\n",
            "memory usage: 112.2+ KB\n",
            "None\n"
          ]
        }
      ]
    },
    {
      "cell_type": "code",
      "source": [
        "# Cek nilai missing (hilang)\n",
        "missing_values = data.isnull().sum()\n",
        "print(\"Nilai Missing di setiap kolom:\")\n",
        "print(missing_values)"
      ],
      "metadata": {
        "colab": {
          "base_uri": "https://localhost:8080/"
        },
        "id": "ls1xOZOsfPkX",
        "outputId": "0582cb18-a033-4d22-a9b9-ff525e7ad929"
      },
      "execution_count": null,
      "outputs": [
        {
          "output_type": "stream",
          "name": "stdout",
          "text": [
            "Nilai Missing di setiap kolom:\n",
            "age                              0\n",
            "sex                              0\n",
            "chest_pain_type                  0\n",
            "resting_blood_pressure           0\n",
            "cholestoral                      0\n",
            "fasting_blood_sugar              0\n",
            "rest_ecg                         0\n",
            "Max_heart_rate                   0\n",
            "exercise_induced_angina          0\n",
            "oldpeak                          0\n",
            "slope                            0\n",
            "vessels_colored_by_flourosopy    0\n",
            "thalassemia                      0\n",
            "target                           0\n",
            "dtype: int64\n"
          ]
        }
      ]
    },
    {
      "cell_type": "code",
      "source": [
        "import matplotlib.pyplot as plt\n",
        "\n",
        "# Membuat boxplot untuk setiap kolom numerik\n",
        "data.boxplot(figsize=(10, 6))\n",
        "plt.xticks(rotation=90)\n",
        "\n",
        "# Membuat Label kolom agar tidak bertumpuk\n",
        "plt.show()"
      ],
      "metadata": {
        "colab": {
          "base_uri": "https://localhost:8080/",
          "height": 669
        },
        "id": "j_qZ0_pHf3bT",
        "outputId": "74ce6516-7d63-474b-9299-98b0728d62fb"
      },
      "execution_count": null,
      "outputs": [
        {
          "output_type": "display_data",
          "data": {
            "text/plain": [
              "<Figure size 1000x600 with 1 Axes>"
            ],
            "image/png": "[encoded data removed]"
          },
          "metadata": {}
        }
      ]
    },
    {
      "cell_type": "code",
      "source": [
        "# Memilih hanya kolom numerik\n",
        "data_numerik = data.select_dtypes(include=[float, int])\n",
        "\n",
        "# Menghitung  korelasi antar variabel numerik\n",
        "correlation_matrix = data_numerik.corr()\n",
        "\n",
        "# Menampilkan matriks korelasi\n",
        "print(\"Matriks Korelasi:\")\n",
        "print(correlation_matrix)\n"
      ],
      "metadata": {
        "colab": {
          "base_uri": "https://localhost:8080/"
        },
        "id": "biq6KZkhj8db",
        "outputId": "6cc4ac9c-049f-4c9c-b267-0d9a18be170c"
      },
      "execution_count": null,
      "outputs": [
        {
          "output_type": "stream",
          "name": "stdout",
          "text": [
            "Matriks Korelasi:\n",
            "                             age  resting_blood_pressure  cholestoral  \\\n",
            "age                     1.000000                0.271121     0.219823   \n",
            "resting_blood_pressure  0.271121                1.000000     0.127977   \n",
            "cholestoral             0.219823                0.127977     1.000000   \n",
            "Max_heart_rate         -0.390227               -0.039264    -0.021772   \n",
            "oldpeak                 0.208137                0.187434     0.064880   \n",
            "target                 -0.229324               -0.138772    -0.099966   \n",
            "\n",
            "                        Max_heart_rate   oldpeak    target  \n",
            "age                          -0.390227  0.208137 -0.229324  \n",
            "resting_blood_pressure       -0.039264  0.187434 -0.138772  \n",
            "cholestoral                  -0.021772  0.064880 -0.099966  \n",
            "Max_heart_rate                1.000000 -0.349796  0.422895  \n",
            "oldpeak                      -0.349796  1.000000 -0.438441  \n",
            "target                        0.422895 -0.438441  1.000000  \n"
          ]
        }
      ]
    },
    {
      "cell_type": "code",
      "source": [
        "#mengitung dan menampilkan mean, median, mode, standar deviasi, variansi, skewness, dan kurtosis untuk kolom numerik.\n",
        "import pandas as pd\n",
        "import numpy as np\n",
        "\n",
        "# Memilih hanya kolom numerik\n",
        "data_numeric = data.select_dtypes(include=[np.number])\n",
        "\n",
        "# Menghitung statistik dasar untuk setiap kolom numerik\n",
        "mean_values = data_numeric.mean()                      # Mean\n",
        "median_values = data_numeric.median()                  # Median\n",
        "mode_values = data_numeric.mode().iloc[0]              # Mode (hanya mengambil mode pertama jika ada beberapa)\n",
        "std_dev_values = data_numeric.std()                    # Standar Deviasi\n",
        "variance_values = data_numeric.var()                   # Variansi\n",
        "skewness_values = data_numeric.skew()                  # Skewness\n",
        "kurtosis_values = data_numeric.kurt()                  # kurtosis\n",
        "\n",
        "# Menampilkan hasil\n",
        "print(\"Mean:\\n\", mean_values)\n",
        "print(\"\\nMedian:\\n\", median_values)\n",
        "print(\"\\nMode:\\n\", mode_values)\n",
        "print(\"\\nStandar Deviasi:\\n\", std_dev_values)\n",
        "print(\"\\nVariansi:\\n\", variance_values)\n",
        "print(\"\\nSkewness:\\n\", skewness_values)\n",
        "print(\"\\nKurtosis:\\n\", kurtosis_values)"
      ],
      "metadata": {
        "colab": {
          "base_uri": "https://localhost:8080/"
        },
        "id": "hz8MkDWP0TO6",
        "outputId": "9156aaeb-4ba3-4c44-9c98-9487b0f3932c"
      },
      "execution_count": null,
      "outputs": [
        {
          "output_type": "stream",
          "name": "stdout",
          "text": [
            "Mean:\n",
            " age                        54.434146\n",
            "resting_blood_pressure    131.611707\n",
            "cholestoral               246.000000\n",
            "Max_heart_rate            149.114146\n",
            "oldpeak                     1.071512\n",
            "target                      0.513171\n",
            "dtype: float64\n",
            "\n",
            "Median:\n",
            " age                        56.0\n",
            "resting_blood_pressure    130.0\n",
            "cholestoral               240.0\n",
            "Max_heart_rate            152.0\n",
            "oldpeak                     0.8\n",
            "target                      1.0\n",
            "dtype: float64\n",
            "\n",
            "Mode:\n",
            " age                        58.0\n",
            "resting_blood_pressure    120.0\n",
            "cholestoral               204.0\n",
            "Max_heart_rate            162.0\n",
            "oldpeak                     0.0\n",
            "target                      1.0\n",
            "Name: 0, dtype: float64\n",
            "\n",
            "Standar Deviasi:\n",
            " age                        9.072290\n",
            "resting_blood_pressure    17.516718\n",
            "cholestoral               51.592510\n",
            "Max_heart_rate            23.005724\n",
            "oldpeak                    1.175053\n",
            "target                     0.500070\n",
            "dtype: float64\n",
            "\n",
            "Variansi:\n",
            " age                         82.306450\n",
            "resting_blood_pressure     306.835410\n",
            "cholestoral               2661.787109\n",
            "Max_heart_rate             529.263325\n",
            "oldpeak                      1.380750\n",
            "target                       0.250071\n",
            "dtype: float64\n",
            "\n",
            "Skewness:\n",
            " age                      -0.248866\n",
            "resting_blood_pressure    0.739768\n",
            "cholestoral               1.074073\n",
            "Max_heart_rate           -0.513777\n",
            "oldpeak                   1.210899\n",
            "target                   -0.052778\n",
            "dtype: float64\n",
            "\n",
            "Kurtosis:\n",
            " age                      -0.525618\n",
            "resting_blood_pressure    0.991221\n",
            "cholestoral               3.996803\n",
            "Max_heart_rate           -0.088822\n",
            "oldpeak                   1.314471\n",
            "target                   -2.001123\n",
            "dtype: float64\n"
          ]
        }
      ]
    },
    {
      "cell_type": "code",
      "source": [
        "print (\"laporan\")"
      ],
      "metadata": {
        "colab": {
          "base_uri": "https://localhost:8080/"
        },
        "id": "EdFYQAJf1MS2",
        "outputId": "1e969cce-49d7-46c2-9120-52572bf7569e"
      },
      "execution_count": null,
      "outputs": [
        {
          "output_type": "stream",
          "name": "stdout",
          "text": [
            "laporan\n"
          ]
        }
      ]
    },
    {
      "cell_type": "markdown",
      "source": [
        "data yang dimuat disini adalah kumpulan data penyakit jantung, dari 5 baris data pertama resting blood pressure yang paling tinggi dimiliki oleh seorang pria dengan resting blood pressure 148, kemudian dari 5 baris data pertama ininjuga didapatkan yang memiliki kolesterol paling tinggi yaitu seorang wanita berusia 62 tahun dengan kolesterolnya yaitu 294.\n",
        "\n",
        "dan dari 5 baris terakhir resting blood pressure tertinggi dimiliki oleh seorang pria berumur 59 dengan resting blood pressure nya 140, dan yang memiliki kolesterol tertinggi yaitu seorang pria berumur 47 tahun dengan kolesterol nya 275.\n",
        "\n",
        "kemudian pada bagian matriks korelasi:\n",
        "\n",
        "Matriks korelasi ini menunjukkan bagaimana setiap variabel dalam dataset saling berhubungan satu sama lain. Korelasi mengukur sejauh mana dua variabel berubah bersama-sama. Nilai korelasi berkisar antara -1 dan 1, di mana:\n",
        "\n",
        "\"1\" menunjukkan korelasi positif sempurna: ketika satu variabel meningkat, yang lain juga meningkat.\n",
        "\n",
        "\"-1\" menunjukkan korelasi negatif sempurna: ketika satu variabel meningkat, yang lain menurun.\n",
        "\n",
        "\"0\" menunjukkan tidak ada hubungan linier antara dua variabel.\n",
        "\n",
        "berikut beberapa korelasi penting dari matriks ini:\n",
        "\n",
        "age dan Max_heart_rate (-0.390227): Terdapat korelasi negatif sedang antara usia dan detak jantung maksimum. Artinya, semakin tua seseorang, semakin rendah detak jantung maksimum yang mereka capai. Hal ini sesuai dengan pengetahuan medis bahwa detak jantung maksimum cenderung menurun seiring bertambahnya usia.\n",
        "\n",
        "age dan oldpeak (0.208137): Korelasi positif lemah menunjukkan bahwa seiring bertambahnya usia, tingkat depresi ST (oldpeak) sedikit meningkat.\n",
        "\n",
        "age dan target (-0.229324): Korelasi negatif lemah antara usia dan label target, yang menunjukkan bahwa usia yang lebih tua sedikit menurunkan kemungkinan memiliki penyakit jantung, berdasarkan model ini.\n",
        "\n",
        "Max_heart_rate dan target (0.422895): Korelasi positif ini cukup signifikan, menunjukkan bahwa detak jantung maksimum yang lebih tinggi berhubungan dengan peningkatan risiko penyakit jantung\n"
      ],
      "metadata": {
        "id": "3Dqb6ZWa1RBl"
      }
    }
  ]
}